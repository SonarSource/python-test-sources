{
 "cells": [
  {
   "cell_type": "code",
   "execution_count": 1,
   "metadata": {
    "collapsed": false
   },
   "outputs": [
    {
     "name": "stderr",
     "output_type": "stream",
     "text": [
      "Using TensorFlow backend.\n"
     ]
    }
   ],
   "source": [
    "from keras.models import Sequential\n",
    "from keras.layers import Dense\n",
    "import numpy as np\n",
    "import matplotlib.pyplot as plt\n",
    "%matplotlib inline"
   ]
  },
  {
   "cell_type": "code",
   "execution_count": 2,
   "metadata": {
    "collapsed": true
   },
   "outputs": [],
   "source": [
    "# Generate dataset\n",
    "trX = np.linspace(-1, 1, 101)\n",
    "trY = 2 * trX + np.random.randn(*trX.shape) * 0.33 # create a y value which is approximately linear but with some random noise"
   ]
  },
  {
   "cell_type": "code",
   "execution_count": 3,
   "metadata": {
    "collapsed": true
   },
   "outputs": [],
   "source": [
    "# Linear regression model\n",
    "model = Sequential()\n",
    "model.add(Dense(input_dim=1, output_dim=1, init='uniform', activation='linear'))\n",
    "model.compile(optimizer='sgd', loss='mse')"
   ]
  },
  {
   "cell_type": "code",
   "execution_count": 4,
   "metadata": {
    "collapsed": false
   },
   "outputs": [
    {
     "name": "stdout",
     "output_type": "stream",
     "text": [
      "Linear regression model is initialized with weight w: -0.02, b: 0.00\n"
     ]
    }
   ],
   "source": [
    "# Print initial weights\n",
    "weights = model.layers[0].get_weights()\n",
    "w_init = weights[0][0][0]\n",
    "b_init = weights[1][0]\n",
    "print('Linear regression model is initialized with weight w: %.2f, b: %.2f' % (w_init, b_init))"
   ]
  },
  {
   "cell_type": "code",
   "execution_count": 5,
   "metadata": {
    "collapsed": false
   },
   "outputs": [
    {
     "name": "stdout",
     "output_type": "stream",
     "text": [
      "Epoch 1/100\n",
      "101/101 [==============================] - 0s - loss: 1.6034     \n",
      "Epoch 2/100\n",
      "101/101 [==============================] - 0s - loss: 1.5246     \n",
      "Epoch 3/100\n",
      "101/101 [==============================] - 0s - loss: 1.4446     \n",
      "Epoch 4/100\n",
      "101/101 [==============================] - 0s - loss: 1.3690     \n",
      "Epoch 5/100\n",
      "101/101 [==============================] - 0s - loss: 1.2975     \n",
      "Epoch 6/100\n",
      "101/101 [==============================] - 0s - loss: 1.2362     \n",
      "Epoch 7/100\n",
      "101/101 [==============================] - 0s - loss: 1.1691     \n",
      "Epoch 8/100\n",
      "101/101 [==============================] - 0s - loss: 1.1179     \n",
      "Epoch 9/100\n",
      "101/101 [==============================] - 0s - loss: 1.0717     \n",
      "Epoch 10/100\n",
      "101/101 [==============================] - 0s - loss: 1.0224     \n",
      "Epoch 11/100\n",
      "101/101 [==============================] - 0s - loss: 0.9743     \n",
      "Epoch 12/100\n",
      "101/101 [==============================] - 0s - loss: 0.9290     \n",
      "Epoch 13/100\n",
      "101/101 [==============================] - 0s - loss: 0.8886     \n",
      "Epoch 14/100\n",
      "101/101 [==============================] - 0s - loss: 0.8452     \n",
      "Epoch 15/100\n",
      "101/101 [==============================] - 0s - loss: 0.8061     \n",
      "Epoch 16/100\n",
      "101/101 [==============================] - 0s - loss: 0.7721     \n",
      "Epoch 17/100\n",
      "101/101 [==============================] - 0s - loss: 0.7335     \n",
      "Epoch 18/100\n",
      "101/101 [==============================] - 0s - loss: 0.6992     \n",
      "Epoch 19/100\n",
      "101/101 [==============================] - 0s - loss: 0.6663     \n",
      "Epoch 20/100\n",
      "101/101 [==============================] - 0s - loss: 0.6388     \n",
      "Epoch 21/100\n",
      "101/101 [==============================] - 0s - loss: 0.6106     \n",
      "Epoch 22/100\n",
      "101/101 [==============================] - 0s - loss: 0.5842     \n",
      "Epoch 23/100\n",
      "101/101 [==============================] - 0s - loss: 0.5584     \n",
      "Epoch 24/100\n",
      "101/101 [==============================] - 0s - loss: 0.5357     \n",
      "Epoch 25/100\n",
      "101/101 [==============================] - 0s - loss: 0.5126     \n",
      "Epoch 26/100\n",
      "101/101 [==============================] - 0s - loss: 0.4931     \n",
      "Epoch 27/100\n",
      "101/101 [==============================] - 0s - loss: 0.4715     \n",
      "Epoch 28/100\n",
      "101/101 [==============================] - 0s - loss: 0.4544     \n",
      "Epoch 29/100\n",
      "101/101 [==============================] - 0s - loss: 0.4364     \n",
      "Epoch 30/100\n",
      "101/101 [==============================] - 0s - loss: 0.4194     \n",
      "Epoch 31/100\n",
      "101/101 [==============================] - 0s - loss: 0.4032     \n",
      "Epoch 32/100\n",
      "101/101 [==============================] - 0s - loss: 0.3883     \n",
      "Epoch 33/100\n",
      "101/101 [==============================] - 0s - loss: 0.3703     \n",
      "Epoch 34/100\n",
      "101/101 [==============================] - 0s - loss: 0.3565     \n",
      "Epoch 35/100\n",
      "101/101 [==============================] - 0s - loss: 0.3433     \n",
      "Epoch 36/100\n",
      "101/101 [==============================] - 0s - loss: 0.3312     \n",
      "Epoch 37/100\n",
      "101/101 [==============================] - 0s - loss: 0.3179     \n",
      "Epoch 38/100\n",
      "101/101 [==============================] - 0s - loss: 0.3067     \n",
      "Epoch 39/100\n",
      "101/101 [==============================] - 0s - loss: 0.2956     \n",
      "Epoch 40/100\n",
      "101/101 [==============================] - 0s - loss: 0.2856     \n",
      "Epoch 41/100\n",
      "101/101 [==============================] - 0s - loss: 0.2767     \n",
      "Epoch 42/100\n",
      "101/101 [==============================] - 0s - loss: 0.2660     \n",
      "Epoch 43/100\n",
      "101/101 [==============================] - 0s - loss: 0.2579     \n",
      "Epoch 44/100\n",
      "101/101 [==============================] - 0s - loss: 0.2498     \n",
      "Epoch 45/100\n",
      "101/101 [==============================] - 0s - loss: 0.2428     \n",
      "Epoch 46/100\n",
      "101/101 [==============================] - 0s - loss: 0.2355     \n",
      "Epoch 47/100\n",
      "101/101 [==============================] - 0s - loss: 0.2281     \n",
      "Epoch 48/100\n",
      "101/101 [==============================] - 0s - loss: 0.2222     \n",
      "Epoch 49/100\n",
      "101/101 [==============================] - 0s - loss: 0.2158     \n",
      "Epoch 50/100\n",
      "101/101 [==============================] - 0s - loss: 0.2101     \n",
      "Epoch 51/100\n",
      "101/101 [==============================] - 0s - loss: 0.2054     \n",
      "Epoch 52/100\n",
      "101/101 [==============================] - 0s - loss: 0.2013     \n",
      "Epoch 53/100\n",
      "101/101 [==============================] - 0s - loss: 0.1963     \n",
      "Epoch 54/100\n",
      "101/101 [==============================] - 0s - loss: 0.1918     \n",
      "Epoch 55/100\n",
      "101/101 [==============================] - 0s - loss: 0.1870     \n",
      "Epoch 56/100\n",
      "101/101 [==============================] - 0s - loss: 0.1836     \n",
      "Epoch 57/100\n",
      "101/101 [==============================] - 0s - loss: 0.1800     \n",
      "Epoch 58/100\n",
      "101/101 [==============================] - 0s - loss: 0.1760     \n",
      "Epoch 59/100\n",
      "101/101 [==============================] - 0s - loss: 0.1721     \n",
      "Epoch 60/100\n",
      "101/101 [==============================] - 0s - loss: 0.1691     \n",
      "Epoch 61/100\n",
      "101/101 [==============================] - 0s - loss: 0.1664     \n",
      "Epoch 62/100\n",
      "101/101 [==============================] - 0s - loss: 0.1631     \n",
      "Epoch 63/100\n",
      "101/101 [==============================] - 0s - loss: 0.1602     \n",
      "Epoch 64/100\n",
      "101/101 [==============================] - 0s - loss: 0.1570     \n",
      "Epoch 65/100\n",
      "101/101 [==============================] - 0s - loss: 0.1542     \n",
      "Epoch 66/100\n",
      "101/101 [==============================] - 0s - loss: 0.1519     \n",
      "Epoch 67/100\n",
      "101/101 [==============================] - 0s - loss: 0.1496     \n",
      "Epoch 68/100\n",
      "101/101 [==============================] - 0s - loss: 0.1470     \n",
      "Epoch 69/100\n",
      "101/101 [==============================] - 0s - loss: 0.1446     \n",
      "Epoch 70/100\n",
      "101/101 [==============================] - 0s - loss: 0.1430     \n",
      "Epoch 71/100\n",
      "101/101 [==============================] - 0s - loss: 0.1414     \n",
      "Epoch 72/100\n",
      "101/101 [==============================] - 0s - loss: 0.1397     \n",
      "Epoch 73/100\n",
      "101/101 [==============================] - 0s - loss: 0.1381     \n",
      "Epoch 74/100\n",
      "101/101 [==============================] - 0s - loss: 0.1364     \n",
      "Epoch 75/100\n",
      "101/101 [==============================] - 0s - loss: 0.1352     \n",
      "Epoch 76/100\n",
      "101/101 [==============================] - 0s - loss: 0.1338     \n",
      "Epoch 77/100\n",
      "101/101 [==============================] - 0s - loss: 0.1321     \n",
      "Epoch 78/100\n",
      "101/101 [==============================] - 0s - loss: 0.1312     \n",
      "Epoch 79/100\n",
      "101/101 [==============================] - 0s - loss: 0.1299     \n",
      "Epoch 80/100\n",
      "101/101 [==============================] - 0s - loss: 0.1286     \n",
      "Epoch 81/100\n",
      "101/101 [==============================] - 0s - loss: 0.1270     \n",
      "Epoch 82/100\n",
      "101/101 [==============================] - 0s - loss: 0.1260     \n",
      "Epoch 83/100\n",
      "101/101 [==============================] - 0s - loss: 0.1252     \n",
      "Epoch 84/100\n",
      "101/101 [==============================] - 0s - loss: 0.1247     \n",
      "Epoch 85/100\n",
      "101/101 [==============================] - 0s - loss: 0.1239     \n",
      "Epoch 86/100\n",
      "101/101 [==============================] - 0s - loss: 0.1228     \n",
      "Epoch 87/100\n",
      "101/101 [==============================] - 0s - loss: 0.1222     \n",
      "Epoch 88/100\n",
      "101/101 [==============================] - 0s - loss: 0.1214     \n",
      "Epoch 89/100\n",
      "101/101 [==============================] - 0s - loss: 0.1210     \n",
      "Epoch 90/100\n",
      "101/101 [==============================] - 0s - loss: 0.1201     \n",
      "Epoch 91/100\n",
      "101/101 [==============================] - 0s - loss: 0.1194     \n",
      "Epoch 92/100\n",
      "101/101 [==============================] - 0s - loss: 0.1189     \n",
      "Epoch 93/100\n",
      "101/101 [==============================] - 0s - loss: 0.1184     \n",
      "Epoch 94/100\n",
      "101/101 [==============================] - 0s - loss: 0.1176     \n",
      "Epoch 95/100\n",
      "101/101 [==============================] - 0s - loss: 0.1168     \n",
      "Epoch 96/100\n",
      "101/101 [==============================] - 0s - loss: 0.1162     \n",
      "Epoch 97/100\n",
      "101/101 [==============================] - 0s - loss: 0.1157     \n",
      "Epoch 98/100\n",
      "101/101 [==============================] - 0s - loss: 0.1150     \n",
      "Epoch 99/100\n",
      "101/101 [==============================] - 0s - loss: 0.1144     \n",
      "Epoch 100/100\n",
      "101/101 [==============================] - 0s - loss: 0.1140     \n"
     ]
    },
    {
     "data": {
      "text/plain": [
       "<keras.callbacks.History at 0x7f9644059750>"
      ]
     },
     "execution_count": 5,
     "metadata": {},
     "output_type": "execute_result"
    }
   ],
   "source": [
    "# Train\n",
    "model.fit(trX, trY, nb_epoch=100, verbose=1)"
   ]
  },
  {
   "cell_type": "code",
   "execution_count": 6,
   "metadata": {
    "collapsed": false
   },
   "outputs": [
    {
     "name": "stdout",
     "output_type": "stream",
     "text": [
      "Linear regression model is trained with weight w: 1.95, b: -0.01\n"
     ]
    }
   ],
   "source": [
    "# Print trained weights\n",
    "weights = model.layers[0].get_weights()\n",
    "w = weights[0][0][0]\n",
    "b = weights[1][0]\n",
    "print('Linear regression model is trained with weight w: %.2f, b: %.2f' % (w, b))"
   ]
  },
  {
   "cell_type": "code",
   "execution_count": 7,
   "metadata": {
    "collapsed": false
   },
   "outputs": [
    {
     "data": {
      "image/png": "[encoded data removed]",
      "text/plain": [
       "<matplotlib.figure.Figure at 0x7f9634402490>"
      ]
     },
     "metadata": {},
     "output_type": "display_data"
    }
   ],
   "source": [
    "plt.plot(trX, trY, label='data')\n",
    "plt.plot(trX, w_init*trX + b_init, label='init')\n",
    "plt.plot(trX, w*trX + b, label='prediction')\n",
    "plt.legend()\n",
    "plt.show()"
   ]
  }
 ],
 "metadata": {
  "kernelspec": {
   "display_name": "Python 3",
   "language": "python",
   "name": "python3"
  },
  "language_info": {
   "codemirror_mode": {
    "name": "ipython",
    "version": 3.0
   },
   "file_extension": ".py",
   "mimetype": "text/x-python",
   "name": "python",
   "nbconvert_exporter": "python",
   "pygments_lexer": "ipython3",
   "version": "3.4.3"
  }
 },
 "nbformat": 4,
 "nbformat_minor": 0
}