{
 "cells": [
  {
   "cell_type": "code",
   "execution_count": 1,
   "metadata": {
    "collapsed": false
   },
   "outputs": [
    {
     "name": "stderr",
     "output_type": "stream",
     "text": [
      "Using TensorFlow backend.\n"
     ]
    }
   ],
   "source": [
    "from keras.models import Sequential\n",
    "from keras.layers import LSTM, Dense\n",
    "from keras.datasets import mnist\n",
    "from keras.utils import np_utils\n",
    "from keras import initializations\n",
    "\n",
    "def init_weights(shape, name=None):\n",
    "    return initializations.normal(shape, scale=0.01, name=name)"
   ]
  },
  {
   "cell_type": "code",
   "execution_count": 2,
   "metadata": {
    "collapsed": true
   },
   "outputs": [],
   "source": [
    "# Hyper parameters\n",
    "batch_size = 128\n",
    "nb_epoch = 50\n",
    "\n",
    "# Parameters for MNIST dataset\n",
    "img_rows, img_cols = 28, 28\n",
    "nb_classes = 10\n",
    "\n",
    "# Parameters for LSTM network\n",
    "nb_lstm_outputs = 30\n",
    "nb_time_steps = img_rows\n",
    "dim_input_vector = img_cols"
   ]
  },
  {
   "cell_type": "code",
   "execution_count": 3,
   "metadata": {
    "collapsed": false
   },
   "outputs": [
    {
     "name": "stdout",
     "output_type": "stream",
     "text": [
      "X_train original shape: (60000, 28, 28)\n",
      "X_train shape: (60000, 28, 28)\n",
      "60000 train samples\n",
      "10000 test samples\n"
     ]
    }
   ],
   "source": [
    "# Load MNIST dataset\n",
    "(X_train, y_train), (X_test, y_test) = mnist.load_data()\n",
    "print('X_train original shape:', X_train.shape)\n",
    "input_shape = (nb_time_steps, dim_input_vector)\n",
    "\n",
    "X_train = X_train.astype('float32') / 255.\n",
    "X_test = X_test.astype('float32') / 255.\n",
    "Y_train = np_utils.to_categorical(y_train, nb_classes)\n",
    "Y_test = np_utils.to_categorical(y_test, nb_classes)\n",
    "\n",
    "print('X_train shape:', X_train.shape)\n",
    "print(X_train.shape[0], 'train samples')\n",
    "print(X_test.shape[0], 'test samples')"
   ]
  },
  {
   "cell_type": "code",
   "execution_count": 4,
   "metadata": {
    "collapsed": false
   },
   "outputs": [
    {
     "name": "stdout",
     "output_type": "stream",
     "text": [
      "____________________________________________________________________________________________________\n",
      "Layer (type)                     Output Shape          Param #     Connected to                     \n",
      "====================================================================================================\n",
      "lstm_1 (LSTM)                    (None, 30)            7080        lstm_input_1[0][0]               \n",
      "____________________________________________________________________________________________________\n",
      "dense_1 (Dense)                  (None, 10)            310         lstm_1[0][0]                     \n",
      "====================================================================================================\n",
      "Total params: 7390\n",
      "____________________________________________________________________________________________________\n"
     ]
    }
   ],
   "source": [
    "# Build LSTM network\n",
    "model = Sequential()\n",
    "model.add(LSTM(nb_lstm_outputs, input_shape=input_shape))\n",
    "model.add(Dense(nb_classes, activation='softmax', init=init_weights))\n",
    "model.compile(optimizer='rmsprop', loss='categorical_crossentropy', metrics=['accuracy'])\n",
    "model.summary()"
   ]
  },
  {
   "cell_type": "code",
   "execution_count": 5,
   "metadata": {
    "collapsed": false
   },
   "outputs": [
    {
     "name": "stdout",
     "output_type": "stream",
     "text": [
      "Epoch 1/50\n",
      "60000/60000 [==============================] - 21s - loss: 1.2954 - acc: 0.6153    \n",
      "Epoch 2/50\n",
      "60000/60000 [==============================] - 21s - loss: 0.5704 - acc: 0.8313    \n",
      "Epoch 3/50\n",
      "60000/60000 [==============================] - 21s - loss: 0.3784 - acc: 0.8897    \n",
      "Epoch 4/50\n",
      "60000/60000 [==============================] - 21s - loss: 0.2879 - acc: 0.9173    \n",
      "Epoch 5/50\n",
      "60000/60000 [==============================] - 21s - loss: 0.2331 - acc: 0.9320    \n",
      "Epoch 6/50\n",
      "60000/60000 [==============================] - 21s - loss: 0.1977 - acc: 0.9431    \n",
      "Epoch 7/50\n",
      "60000/60000 [==============================] - 21s - loss: 0.1754 - acc: 0.9494    \n",
      "Epoch 8/50\n",
      "60000/60000 [==============================] - 21s - loss: 0.1555 - acc: 0.9540    \n",
      "Epoch 9/50\n",
      "60000/60000 [==============================] - 21s - loss: 0.1416 - acc: 0.9583    \n",
      "Epoch 10/50\n",
      "60000/60000 [==============================] - 21s - loss: 0.1285 - acc: 0.9623    \n",
      "Epoch 11/50\n",
      "60000/60000 [==============================] - 21s - loss: 0.1206 - acc: 0.9649    \n",
      "Epoch 12/50\n",
      "60000/60000 [==============================] - 21s - loss: 0.1096 - acc: 0.9673    \n",
      "Epoch 13/50\n",
      "60000/60000 [==============================] - 21s - loss: 0.1028 - acc: 0.9697    \n",
      "Epoch 14/50\n",
      "60000/60000 [==============================] - 21s - loss: 0.0975 - acc: 0.9714    \n",
      "Epoch 15/50\n",
      "60000/60000 [==============================] - 21s - loss: 0.0911 - acc: 0.9734    \n",
      "Epoch 16/50\n",
      "60000/60000 [==============================] - 21s - loss: 0.0869 - acc: 0.9745    \n",
      "Epoch 17/50\n",
      "60000/60000 [==============================] - 21s - loss: 0.0827 - acc: 0.9764    \n",
      "Epoch 18/50\n",
      "60000/60000 [==============================] - 21s - loss: 0.0767 - acc: 0.9776    \n",
      "Epoch 19/50\n",
      "60000/60000 [==============================] - 21s - loss: 0.0742 - acc: 0.9781    \n",
      "Epoch 20/50\n",
      "60000/60000 [==============================] - 21s - loss: 0.0700 - acc: 0.9789    \n",
      "Epoch 21/50\n",
      "60000/60000 [==============================] - 21s - loss: 0.0679 - acc: 0.9797    \n",
      "Epoch 22/50\n",
      "60000/60000 [==============================] - 21s - loss: 0.0643 - acc: 0.9808    \n",
      "Epoch 23/50\n",
      "60000/60000 [==============================] - 21s - loss: 0.0613 - acc: 0.9818    \n",
      "Epoch 24/50\n",
      "60000/60000 [==============================] - 21s - loss: 0.0599 - acc: 0.9820    \n",
      "Epoch 25/50\n",
      "60000/60000 [==============================] - 21s - loss: 0.0571 - acc: 0.9831    \n",
      "Epoch 26/50\n",
      "60000/60000 [==============================] - 21s - loss: 0.0553 - acc: 0.9833    \n",
      "Epoch 27/50\n",
      "60000/60000 [==============================] - 21s - loss: 0.0535 - acc: 0.9842    \n",
      "Epoch 28/50\n",
      "60000/60000 [==============================] - 21s - loss: 0.0516 - acc: 0.9842    \n",
      "Epoch 29/50\n",
      "60000/60000 [==============================] - 21s - loss: 0.0500 - acc: 0.9849    \n",
      "Epoch 30/50\n",
      "60000/60000 [==============================] - 21s - loss: 0.0485 - acc: 0.9852    \n",
      "Epoch 31/50\n",
      "60000/60000 [==============================] - 21s - loss: 0.0462 - acc: 0.9861    \n",
      "Epoch 32/50\n",
      "60000/60000 [==============================] - 21s - loss: 0.0456 - acc: 0.9862    \n",
      "Epoch 33/50\n",
      "60000/60000 [==============================] - 21s - loss: 0.0439 - acc: 0.9869    \n",
      "Epoch 34/50\n",
      "60000/60000 [==============================] - 21s - loss: 0.0428 - acc: 0.9873    \n",
      "Epoch 35/50\n",
      "60000/60000 [==============================] - 21s - loss: 0.0415 - acc: 0.9874    \n",
      "Epoch 36/50\n",
      "60000/60000 [==============================] - 21s - loss: 0.0405 - acc: 0.9881    \n",
      "Epoch 37/50\n",
      "60000/60000 [==============================] - 21s - loss: 0.0389 - acc: 0.9884    \n",
      "Epoch 38/50\n",
      "60000/60000 [==============================] - 21s - loss: 0.0383 - acc: 0.9886    \n",
      "Epoch 39/50\n",
      "60000/60000 [==============================] - 21s - loss: 0.0371 - acc: 0.9894    \n",
      "Epoch 40/50\n",
      "60000/60000 [==============================] - 21s - loss: 0.0358 - acc: 0.9892    \n",
      "Epoch 41/50\n",
      "60000/60000 [==============================] - 21s - loss: 0.0350 - acc: 0.9898    \n",
      "Epoch 42/50\n",
      "60000/60000 [==============================] - 21s - loss: 0.0347 - acc: 0.9894    \n",
      "Epoch 43/50\n",
      "60000/60000 [==============================] - 21s - loss: 0.0340 - acc: 0.9897    \n",
      "Epoch 44/50\n",
      "60000/60000 [==============================] - 21s - loss: 0.0323 - acc: 0.9901    \n",
      "Epoch 45/50\n",
      "60000/60000 [==============================] - 21s - loss: 0.0321 - acc: 0.9901    \n",
      "Epoch 46/50\n",
      "60000/60000 [==============================] - 21s - loss: 0.0307 - acc: 0.9908    \n",
      "Epoch 47/50\n",
      "60000/60000 [==============================] - 21s - loss: 0.0307 - acc: 0.9906    \n",
      "Epoch 48/50\n",
      "60000/60000 [==============================] - 21s - loss: 0.0288 - acc: 0.9912    \n",
      "Epoch 49/50\n",
      "60000/60000 [==============================] - 21s - loss: 0.0282 - acc: 0.9915    \n",
      "Epoch 50/50\n",
      "60000/60000 [==============================] - 21s - loss: 0.0285 - acc: 0.9910    \n"
     ]
    }
   ],
   "source": [
    "# Train\n",
    "history = model.fit(X_train, Y_train, nb_epoch=nb_epoch, batch_size=batch_size, shuffle=True, verbose=1)"
   ]
  },
  {
   "cell_type": "code",
   "execution_count": 6,
   "metadata": {
    "collapsed": false
   },
   "outputs": [
    {
     "name": "stdout",
     "output_type": "stream",
     "text": [
      "10000/10000 [==============================] - 0s     \n",
      "Summary: Loss over the test dataset: 0.07, Accuracy: 0.98\n"
     ]
    }
   ],
   "source": [
    "# Evaluate\n",
    "evaluation = model.evaluate(X_test, Y_test, batch_size=batch_size, verbose=1)\n",
    "print('Summary: Loss over the test dataset: %.2f, Accuracy: %.2f' % (evaluation[0], evaluation[1]))"
   ]
  }
 ],
 "metadata": {
  "kernelspec": {
   "display_name": "Python 3",
   "language": "python",
   "name": "python3"
  },
  "language_info": {
   "codemirror_mode": {
    "name": "ipython",
    "version": 3
   },
   "file_extension": ".py",
   "mimetype": "text/x-python",
   "name": "python",
   "nbconvert_exporter": "python",
   "pygments_lexer": "ipython3",
   "version": "3.4.3"
  }
 },
 "nbformat": 4,
 "nbformat_minor": 1
}
