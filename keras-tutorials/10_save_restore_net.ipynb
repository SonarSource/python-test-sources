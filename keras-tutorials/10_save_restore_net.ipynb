{
 "cells": [
  {
   "cell_type": "code",
   "execution_count": 1,
   "metadata": {
    "collapsed": false
   },
   "outputs": [
    {
     "name": "stderr",
     "output_type": "stream",
     "text": [
      "Using TensorFlow backend.\n"
     ]
    }
   ],
   "source": [
    "from keras.models import Sequential, save_model, load_model\n",
    "from keras.layers import Dense, Dropout\n",
    "from keras.optimizers import RMSprop\n",
    "from keras.datasets import mnist\n",
    "from keras.utils import np_utils\n",
    "from keras.callbacks import ModelCheckpoint"
   ]
  },
  {
   "cell_type": "code",
   "execution_count": 2,
   "metadata": {
    "collapsed": true
   },
   "outputs": [],
   "source": [
    "# Hyper parameters\n",
    "batch_size = 128\n",
    "nb_epoch = 10\n",
    "\n",
    "# Parameters for MNIST dataset\n",
    "nb_classes = 10\n",
    "\n",
    "# Parameters for MLP\n",
    "prob_drop_input = 0.2               # drop probability for dropout @ input layer\n",
    "prob_drop_hidden = 0.5              # drop probability for dropout @ fc layer"
   ]
  },
  {
   "cell_type": "code",
   "execution_count": 3,
   "metadata": {
    "collapsed": true
   },
   "outputs": [],
   "source": [
    "# Load MNIST dataset\n",
    "(X_train, y_train), (X_test, y_test) = mnist.load_data()\n",
    "X_train = X_train.reshape(60000, 784)\n",
    "X_test = X_test.reshape(10000, 784)\n",
    "X_train = X_train.astype('float32')\n",
    "X_test = X_test.astype('float32')\n",
    "X_train /= 255\n",
    "X_test /= 255\n",
    "Y_Train = np_utils.to_categorical(y_train, nb_classes)\n",
    "Y_Test = np_utils.to_categorical(y_test, nb_classes)"
   ]
  },
  {
   "cell_type": "code",
   "execution_count": 4,
   "metadata": {
    "collapsed": false
   },
   "outputs": [
    {
     "name": "stdout",
     "output_type": "stream",
     "text": [
      "____________________________________________________________________________________________________\n",
      "Layer (type)                     Output Shape          Param #     Connected to                     \n",
      "====================================================================================================\n",
      "dense1 (Dense)                   (None, 625)           490625      dense_input_1[0][0]              \n",
      "____________________________________________________________________________________________________\n",
      "dropout1 (Dropout)               (None, 625)           0           dense1[0][0]                     \n",
      "____________________________________________________________________________________________________\n",
      "dense2 (Dense)                   (None, 625)           391250      dropout1[0][0]                   \n",
      "____________________________________________________________________________________________________\n",
      "dropout2 (Dropout)               (None, 625)           0           dense2[0][0]                     \n",
      "____________________________________________________________________________________________________\n",
      "dense3 (Dense)                   (None, 10)            6260        dropout2[0][0]                   \n",
      "====================================================================================================\n",
      "Total params: 888135\n",
      "____________________________________________________________________________________________________\n"
     ]
    }
   ],
   "source": [
    "# Multilayer Perceptron model\n",
    "model = Sequential()\n",
    "model.add(Dense(output_dim=625, input_dim=784, init='normal', activation='sigmoid', name='dense1'))\n",
    "model.add(Dropout(prob_drop_input, name='dropout1'))\n",
    "model.add(Dense(output_dim=625, input_dim=625, init='normal', activation='sigmoid', name='dense2'))\n",
    "model.add(Dropout(prob_drop_hidden, name='dropout2'))\n",
    "model.add(Dense(output_dim=10, input_dim=625, init='normal', activation='softmax', name='dense3'))\n",
    "model.compile(optimizer=RMSprop(lr=0.001, rho=0.9), loss='categorical_crossentropy', metrics=['accuracy'])\n",
    "model.summary()"
   ]
  },
  {
   "cell_type": "code",
   "execution_count": 5,
   "metadata": {
    "collapsed": false
   },
   "outputs": [
    {
     "name": "stdout",
     "output_type": "stream",
     "text": [
      "Train on 60000 samples, validate on 10000 samples\n",
      "Epoch 1/10\n",
      "60000/60000 [==============================] - 3s - loss: 0.5620 - acc: 0.8227 - val_loss: 0.2750 - val_acc: 0.9141\n",
      "Epoch 2/10\n",
      "60000/60000 [==============================] - 3s - loss: 0.2497 - acc: 0.9242 - val_loss: 0.1697 - val_acc: 0.9485\n",
      "Epoch 3/10\n",
      "60000/60000 [==============================] - 3s - loss: 0.1791 - acc: 0.9457 - val_loss: 0.1320 - val_acc: 0.9585\n",
      "Epoch 4/10\n",
      "60000/60000 [==============================] - 3s - loss: 0.1430 - acc: 0.9561 - val_loss: 0.1216 - val_acc: 0.9623\n",
      "Epoch 5/10\n",
      "60000/60000 [==============================] - 3s - loss: 0.1181 - acc: 0.9636 - val_loss: 0.0966 - val_acc: 0.9700\n",
      "Epoch 6/10\n",
      "60000/60000 [==============================] - 3s - loss: 0.1015 - acc: 0.9694 - val_loss: 0.0895 - val_acc: 0.9730\n",
      "Epoch 7/10\n",
      "60000/60000 [==============================] - 3s - loss: 0.0888 - acc: 0.9721 - val_loss: 0.0846 - val_acc: 0.9746\n",
      "Epoch 8/10\n",
      "60000/60000 [==============================] - 3s - loss: 0.0800 - acc: 0.9750 - val_loss: 0.0794 - val_acc: 0.9755\n",
      "Epoch 9/10\n",
      "60000/60000 [==============================] - 3s - loss: 0.0717 - acc: 0.9780 - val_loss: 0.0791 - val_acc: 0.9766\n",
      "Epoch 10/10\n",
      "60000/60000 [==============================] - 3s - loss: 0.0652 - acc: 0.9800 - val_loss: 0.0786 - val_acc: 0.9761\n"
     ]
    }
   ],
   "source": [
    "# Train\n",
    "save_model(model, './logs/model_mlp')\n",
    "checkpoint = ModelCheckpoint(filepath='./logs/weights.epoch.{epoch:02d}-val_loss.{val_loss:.2f}.hdf5', verbose=0)\n",
    "history = model.fit(X_train, Y_Train, nb_epoch=nb_epoch, batch_size=batch_size, verbose=1,\n",
    "                    callbacks=[checkpoint], validation_data=(X_test, Y_Test))"
   ]
  },
  {
   "cell_type": "code",
   "execution_count": 6,
   "metadata": {
    "collapsed": false
   },
   "outputs": [
    {
     "name": "stdout",
     "output_type": "stream",
     "text": [
      " 9920/10000 [============================>.] - ETA: 0s\n",
      "Summary: Loss over the test dataset: 0.08, Accuracy: 0.98\n"
     ]
    }
   ],
   "source": [
    "# Evaluate\n",
    "evaluation = model.evaluate(X_test, Y_Test, verbose=1)\n",
    "print('\\nSummary: Loss over the test dataset: %.2f, Accuracy: %.2f' % (evaluation[0], evaluation[1]))"
   ]
  },
  {
   "cell_type": "code",
   "execution_count": 7,
   "metadata": {
    "collapsed": false
   },
   "outputs": [
    {
     "name": "stdout",
     "output_type": "stream",
     "text": [
      "____________________________________________________________________________________________________\n",
      "Layer (type)                     Output Shape          Param #     Connected to                     \n",
      "====================================================================================================\n",
      "dense1 (Dense)                   (None, 625)           490625      dense_input_2[0][0]              \n",
      "____________________________________________________________________________________________________\n",
      "dropout1 (Dropout)               (None, 625)           0           dense1[0][0]                     \n",
      "____________________________________________________________________________________________________\n",
      "dense2 (Dense)                   (None, 625)           391250      dropout1[0][0]                   \n",
      "____________________________________________________________________________________________________\n",
      "dropout2 (Dropout)               (None, 625)           0           dense2[0][0]                     \n",
      "____________________________________________________________________________________________________\n",
      "dense3 (Dense)                   (None, 10)            6260        dropout2[0][0]                   \n",
      "====================================================================================================\n",
      "Total params: 888135\n",
      "____________________________________________________________________________________________________\n"
     ]
    }
   ],
   "source": [
    "# Restore trained model\n",
    "loaded_model = load_model('./logs/model_mlp')\n",
    "loaded_model.load_weights('./logs/weights.epoch.09-val_loss.0.08.hdf5')\n",
    "loaded_model.summary()"
   ]
  },
  {
   "cell_type": "code",
   "execution_count": 8,
   "metadata": {
    "collapsed": false
   },
   "outputs": [
    {
     "name": "stdout",
     "output_type": "stream",
     "text": [
      " 9952/10000 [============================>.] - ETA: 0s\n",
      "Summary: Loss over the test dataset: 0.08, Accuracy: 0.98\n"
     ]
    }
   ],
   "source": [
    "# Evaluate with loaded model\n",
    "evaluation = loaded_model.evaluate(X_test, Y_Test, verbose=1)\n",
    "print('\\nSummary: Loss over the test dataset: %.2f, Accuracy: %.2f' % (evaluation[0], evaluation[1]))"
   ]
  }
 ],
 "metadata": {
  "kernelspec": {
   "display_name": "Python 3",
   "language": "python",
   "name": "python3"
  },
  "language_info": {
   "codemirror_mode": {
    "name": "ipython",
    "version": 3
   },
   "file_extension": ".py",
   "mimetype": "text/x-python",
   "name": "python",
   "nbconvert_exporter": "python",
   "pygments_lexer": "ipython3",
   "version": "3.4.3"
  }
 },
 "nbformat": 4,
 "nbformat_minor": 1
}
